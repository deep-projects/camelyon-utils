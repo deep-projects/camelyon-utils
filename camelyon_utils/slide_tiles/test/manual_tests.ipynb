{
 "cells": [
  {
   "cell_type": "markdown",
   "metadata": {},
   "source": [
    "# TESTING a created HDF5-FILE\n",
    "This jupyter notebook is only for manual testing of a hdf5-file."
   ]
  },
  {
   "cell_type": "code",
   "execution_count": null,
   "metadata": {},
   "outputs": [],
   "source": [
    "import os\n",
    "import numpy as np\n",
    "import matplotlib.pyplot as plt\n",
    "import openslide\n",
    "from skimage.filters import threshold_otsu\n",
    "from skimage.transform import resize\n",
    "import h5py"
   ]
  },
  {
   "cell_type": "code",
   "execution_count": null,
   "metadata": {},
   "outputs": [],
   "source": [
    "# parameters\n",
    "path_to_tif = 'output_1549967798.1690197.hdf5'"
   ]
  },
  {
   "cell_type": "markdown",
   "metadata": {},
   "source": [
    "### Read the file"
   ]
  },
  {
   "cell_type": "code",
   "execution_count": null,
   "metadata": {},
   "outputs": [],
   "source": [
    "f = h5py.File(path_to_tif, mode='r')"
   ]
  },
  {
   "cell_type": "markdown",
   "metadata": {},
   "source": [
    "### Check the shapes and names of the dataset"
   ]
  },
  {
   "cell_type": "code",
   "execution_count": null,
   "metadata": {},
   "outputs": [],
   "source": [
    "list(f)"
   ]
  },
  {
   "cell_type": "code",
   "execution_count": null,
   "metadata": {},
   "outputs": [],
   "source": [
    "f['img'].shape"
   ]
  },
  {
   "cell_type": "code",
   "execution_count": null,
   "metadata": {},
   "outputs": [],
   "source": [
    "f['coord_relative'][:5]"
   ]
  },
  {
   "cell_type": "markdown",
   "metadata": {},
   "source": [
    "### Testing the mask and tissue tile from different levels"
   ]
  },
  {
   "cell_type": "code",
   "execution_count": null,
   "metadata": {},
   "outputs": [],
   "source": [
    "# parameters\n",
    "index = 129\n",
    "level_low = 0 # for the left column\n",
    "level_high = 2 # for the right column"
   ]
  },
  {
   "cell_type": "code",
   "execution_count": null,
   "metadata": {
    "scrolled": false
   },
   "outputs": [],
   "source": [
    "plt.figure(figsize=(15,15))\n",
    "plt.subplot(3,2,1)\n",
    "plt.imshow(f['img'][level_low,index])\n",
    "plt.subplot(3,2,2)\n",
    "plt.imshow(f['img'][level_high,index])\n",
    "plt.subplot(3,2,3)\n",
    "plt.imshow(f['mask'][level_low,index])\n",
    "plt.subplot(3,2,4)\n",
    "plt.imshow(f['mask'][level_high,index])\n",
    "plt.subplot(3,2,5)\n",
    "l0 = np.int64(f['img'][level_low,index])\n",
    "l0[:,:,1] += f['mask'][level_low,index] *100\n",
    "plt.imshow(l0)\n",
    "plt.subplot(3,2,6)\n",
    "l1 = np.int64(f['img'][level_high,index])\n",
    "l1[:,:,1] += f['mask'][level_high,index] *100\n",
    "plt.imshow(l1)"
   ]
  },
  {
   "cell_type": "markdown",
   "metadata": {},
   "source": [
    "# Use the information of the position to get one big tile again"
   ]
  },
  {
   "cell_type": "code",
   "execution_count": null,
   "metadata": {},
   "outputs": [],
   "source": [
    "# parameters\n",
    "img_size = 2500\n",
    "layer = 0\n",
    "# reduce the pixel (for example 2 reduce the size of the image by two)\n",
    "reduce = 1\n",
    "start_pos=1000*8"
   ]
  },
  {
   "cell_type": "code",
   "execution_count": null,
   "metadata": {
    "scrolled": false
   },
   "outputs": [],
   "source": [
    "num_of_samples = f['img'].shape[1]\n",
    "shape_of_img = f['img'].shape[2:4]\n",
    "img  = np.zeros((img_size,img_size,3),dtype=np.uint8)\n",
    "mask = np.zeros((img_size,img_size),  dtype=np.bool)\n",
    "\n",
    "for i in range(num_of_samples):\n",
    "    coord_relative = f['coord_relative'][layer,i]\n",
    "    ys = int(coord_relative[0] // reduce)-start_pos\n",
    "    ye = int(ys + shape_of_img[0]// reduce) \n",
    "    xs = int(coord_relative[1] // reduce)-start_pos\n",
    "    xe = int(xs + shape_of_img[1]// reduce) \n",
    "    if (xs < 0 or ys < 0 or xe >= img_size or ye >= img_size) == False:\n",
    "        img[xs:xe,ys:ye] = f['img'][layer,i,::reduce,::reduce]\n",
    "        mask[xs:xe,ys:ye] = f['mask'][layer,i,::reduce,::reduce]\n",
    "print(i)\n",
    "plt.figure(figsize=(15,15))\n",
    "plt.imshow(img)\n",
    "plt.figure(figsize=(15,15))\n",
    "plt.imshow(mask)\n",
    "\n",
    "plt.figure(figsize=(15,15))\n",
    "img_mask = np.int64(img)\n",
    "img_mask[:,:,1] += mask *100\n",
    "plt.imshow(img_mask)"
   ]
  },
  {
   "cell_type": "code",
   "execution_count": null,
   "metadata": {},
   "outputs": [],
   "source": []
  },
  {
   "cell_type": "code",
   "execution_count": null,
   "metadata": {},
   "outputs": [],
   "source": []
  },
  {
   "cell_type": "code",
   "execution_count": null,
   "metadata": {},
   "outputs": [],
   "source": []
  },
  {
   "cell_type": "code",
   "execution_count": null,
   "metadata": {},
   "outputs": [],
   "source": []
  },
  {
   "cell_type": "code",
   "execution_count": null,
   "metadata": {},
   "outputs": [],
   "source": []
  },
  {
   "cell_type": "code",
   "execution_count": null,
   "metadata": {},
   "outputs": [],
   "source": []
  }
 ],
 "metadata": {
  "kernelspec": {
   "display_name": "TensorFlow-Prob-GPU",
   "language": "python",
   "name": "tfp-gpu"
  },
  "language_info": {
   "codemirror_mode": {
    "name": "ipython",
    "version": 3
   },
   "file_extension": ".py",
   "mimetype": "text/x-python",
   "name": "python",
   "nbconvert_exporter": "python",
   "pygments_lexer": "ipython3",
   "version": "3.6.6"
  }
 },
 "nbformat": 4,
 "nbformat_minor": 2
}
